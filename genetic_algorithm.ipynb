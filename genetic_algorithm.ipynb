{
 "cells": [
  {
   "cell_type": "code",
   "execution_count": 1,
   "metadata": {},
   "outputs": [],
   "source": [
    "import numpy as np"
   ]
  },
  {
   "cell_type": "code",
   "execution_count": 2,
   "metadata": {},
   "outputs": [],
   "source": [
    "POP_SIZE = 20\n",
    "CHRO_LENGTH = 10\n",
    "MU_RATE = 0.1\n",
    "GENE_NUM = 20"
   ]
  },
  {
   "cell_type": "code",
   "execution_count": 3,
   "metadata": {},
   "outputs": [],
   "source": [
    "class Chromosome:\n",
    "    def __init__(self):\n",
    "        self.genes = np.random.randint(2, size=CHRO_LENGTH)\n",
    "        \n",
    "    def Fitness(self):\n",
    "        return np.sum(self.genes)\n",
    "    \n",
    "    def mutate(self, p):\n",
    "        if np.random.random() < p:\n",
    "            point = np.random.randint(0, CHRO_LENGTH)\n",
    "            self.genes[point] += 1\n",
    "            self.genes[point] %= 2"
   ]
  },
  {
   "cell_type": "code",
   "execution_count": 4,
   "metadata": {},
   "outputs": [],
   "source": [
    "class Population:\n",
    "    def __init__(self):\n",
    "        self.chromosomes = []\n",
    "        for i in range(POP_SIZE):\n",
    "            self.chromosomes.append(Chromosome())\n",
    "        self.fitness_update()\n",
    "        self.generation = 1\n",
    "    \n",
    "    def __repr__(self):\n",
    "        return f'Gen : {self.generation}, F : {self.f}, Avg F : {self.f.mean()}'\n",
    "    \n",
    "    def fitness_update(self):\n",
    "        self.f = [c.Fitness() for c in self.chromosomes]\n",
    "        self.f = np.array(self.f)\n",
    "    \n",
    "    def roulette_update(self, k):\n",
    "        cb, cw = self.f.max(), self.f.min()\n",
    "        if cb-cw == 0:\n",
    "            self.r_fi = np.full(POP_SIZE, 1/POP_SIZE)\n",
    "            return\n",
    "        self.r_fi = [(ci-cw) + (cb-cw) / (k-1) for ci in self.f]\n",
    "        self.r_fi = np.array(self.r_fi)\n",
    "        self.r_fi /= self.r_fi.sum()\n",
    "\n",
    "    def roulette_selection(self, n):\n",
    "        return np.random.choice(POP_SIZE, n, p=self.r_fi)\n",
    "    \n",
    "    def crossover(self, i1, i2):\n",
    "        point = np.random.randint(0, CHRO_LENGTH)\n",
    "        offspring = Chromosome()\n",
    "        g1 = self.chromosomes[i1].genes[:point]\n",
    "        g2 = self.chromosomes[i2].genes[point:]\n",
    "        offspring.genes = np.append(g1, g2)\n",
    "        offspring.mutate(MU_RATE)\n",
    "        return offspring\n",
    "        \n",
    "    # strady-state GA\n",
    "    def next_generation(self):\n",
    "        self.roulette_update(4)\n",
    "        selected = self.roulette_selection(POP_SIZE)\n",
    "        offsprings = []\n",
    "        for s1, s2 in zip(selected[::2], selected[1::2]):\n",
    "            offsprings.append(self.crossover(s1, s2))\n",
    "        replaced = np.argsort(self.f)\n",
    "        for i in range(int(POP_SIZE/2)):\n",
    "            self.chromosomes[replaced[i]] = offsprings[i]\n",
    "        self.generation += 1\n",
    "        self.fitness_update()"
   ]
  },
  {
   "cell_type": "code",
   "execution_count": 5,
   "metadata": {},
   "outputs": [
    {
     "name": "stdout",
     "output_type": "stream",
     "text": [
      "Gen : 1, F : [6 4 4 4 6 4 5 2 8 5 4 7 6 3 6 5 6 4 7 6], Avg F : 5.1\n",
      "Gen : 2, F : [6 9 6 7 6 6 7 5 8 4 8 7 6 3 6 5 6 5 7 6], Avg F : 6.15\n",
      "Gen : 3, F : [8 9 6 7 6 8 7 6 8 6 8 7 5 6 5 7 5 5 7 6], Avg F : 6.6\n",
      "Gen : 4, F : [8 9 5 7 6 8 7 9 8 7 8 7 5 8 4 7 7 7 7 7], Avg F : 7.05\n",
      "Gen : 5, F : [8 9 7 7 5 8 7 9 8 4 8 8 8 8 7 8 8 9 7 7], Avg F : 7.5\n",
      "Gen : 6, F : [8 9 7 8 8 8 9 9 9 7 7 8 8 8 9 8 8 9 8 7], Avg F : 8.1\n",
      "Gen : 7, F : [8 9 8 8 8 8 9 9 9 9 8 8 8 9 9 8 8 9 8 8], Avg F : 8.4\n",
      "Gen : 8, F : [8 9 8 8 9 9 9 9 9 9 9 9 9 9 9 9 9 9 9 9], Avg F : 8.85\n",
      "Gen : 9, F : [9 9 9 8 9 9 9 9 9 9 9 9 8 9 9 9 9 9 9 9], Avg F : 8.9\n",
      "Gen : 10, F : [ 9  9  9 10  9  9  9  9  9  9  9  9  9  9  9  9  9  9  9  9], Avg F : 9.05\n",
      "Gen : 11, F : [10  9  9 10  9  9  9  9  9  9 10  9  9  9  9  9 10  9  9  9], Avg F : 9.2\n",
      "Gen : 12, F : [10  9  9 10  9  9  9  9  9 10 10  9  9  9  9  8 10  9  9 10], Avg F : 9.25\n",
      "Gen : 13, F : [10 10  9 10  9  9 10 10  8 10 10  9  9  9  9  9 10 10  9 10], Avg F : 9.45\n",
      "Gen : 14, F : [10 10  8 10 10  9 10 10 10 10 10 10 10 10  9 10 10 10 10 10], Avg F : 9.8\n",
      "Gen : 15, F : [ 9 10 10 10 10 10 10 10 10 10 10 10 10 10 10 10 10 10 10 10], Avg F : 9.95\n",
      "Gen : 16, F : [10 10 10 10 10 10 10 10 10 10 10  9 10 10 10  9  9 10 10 10], Avg F : 9.85\n",
      "Gen : 17, F : [10 10 10 10 10 10 10 10 10 10 10 10 10 10 10 10 10 10 10 10], Avg F : 10.0\n",
      "Gen : 18, F : [10 10 10 10 10 10 10 10 10 10 10 10 10 10 10  9 10 10 10 10], Avg F : 9.95\n",
      "Gen : 19, F : [10 10 10 10 10 10 10 10 10 10 10 10 10 10 10 10  9 10 10 10], Avg F : 9.95\n",
      "Gen : 20, F : [10 10 10 10 10 10 10 10 10 10 10 10 10  9 10 10  9 10 10 10], Avg F : 9.9\n"
     ]
    }
   ],
   "source": [
    "p = Population()\n",
    "print(p)\n",
    "\n",
    "for i in range(GENE_NUM-1):\n",
    "    p.next_generation()\n",
    "    print(p)"
   ]
  }
 ],
 "metadata": {
  "kernelspec": {
   "display_name": "Python 3 (TensorFlow-GPU)",
   "language": "python",
   "name": "tensorflow-gpu"
  },
  "language_info": {
   "codemirror_mode": {
    "name": "ipython",
    "version": 3
   },
   "file_extension": ".py",
   "mimetype": "text/x-python",
   "name": "python",
   "nbconvert_exporter": "python",
   "pygments_lexer": "ipython3",
   "version": "3.6.8"
  }
 },
 "nbformat": 4,
 "nbformat_minor": 2
}
